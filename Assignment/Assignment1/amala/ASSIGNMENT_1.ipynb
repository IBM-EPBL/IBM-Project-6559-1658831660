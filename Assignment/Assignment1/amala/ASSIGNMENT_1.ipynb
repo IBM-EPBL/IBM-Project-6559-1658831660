{
  "cells": [
    {
      "cell_type": "markdown",
      "metadata": {},
      "source": [
        "**Basic Python**"
      ]
    },
    {
      "cell_type": "markdown",
      "metadata": {
        "id": "A6D34casi9mc"
      },
      "source": [
        "**1. Split this string**"
      ]
    },
    {
      "cell_type": "code",
      "execution_count": 1,
      "metadata": {
        "colab": {
          "base_uri": "https://localhost:8080/"
        },
        "id": "QKaLXxKbjBMT",
        "outputId": "b014fe87-66ae-49c6-96f3-ba4c181251aa"
      },
      "outputs": [
        {
          "name": "stdout",
          "output_type": "stream",
          "text": [
            "Hi there Sam!\n"
          ]
        }
      ],
      "source": [
        "s = \"Hi there Sam!\"\n",
        "print(s)"
      ]
    },
    {
      "cell_type": "markdown",
      "metadata": {
        "id": "rnVNkEurjJXz"
      },
      "source": [
        "**2. Use .format() to print the following string.**"
      ]
    },
    {
      "cell_type": "markdown",
      "metadata": {
        "id": "criE5sbmjLJi"
      },
      "source": [
        "**Output should be: The diameter of Earth is 12742 kilometers.**"
      ]
    },
    {
      "cell_type": "code",
      "execution_count": 2,
      "metadata": {
        "id": "cTCu2_VCjO4M"
      },
      "outputs": [],
      "source": [
        "planet = \"Earth\"\n",
        "diameter = 12742"
      ]
    },
    {
      "cell_type": "code",
      "execution_count": 3,
      "metadata": {
        "colab": {
          "base_uri": "https://localhost:8080/"
        },
        "id": "U3B3kDLAjSTk",
        "outputId": "6a4a8e97-0a0d-4e2e-ea7b-65a9bdf9fddf"
      },
      "outputs": [
        {
          "name": "stdout",
          "output_type": "stream",
          "text": [
            "The diameter of Earth is 12742\n"
          ]
        }
      ],
      "source": [
        "print(\"The diameter of Earth is {diameter}\".format(diameter=12742))"
      ]
    },
    {
      "cell_type": "markdown",
      "metadata": {
        "id": "27oNU3ZRjWFc"
      },
      "source": [
        "**3. In this nest dictionary grab the word \"hello\"**"
      ]
    },
    {
      "cell_type": "code",
      "execution_count": 4,
      "metadata": {
        "id": "5SMmQQWbjZ1r"
      },
      "outputs": [],
      "source": [
        "d = {'k1':[1,2,3,{'tricky':['oh','man','inception',{'target':[1,2,3,'hello']}]}]}"
      ]
    },
    {
      "cell_type": "code",
      "execution_count": 5,
      "metadata": {
        "colab": {
          "base_uri": "https://localhost:8080/",
          "height": 35
        },
        "id": "ElO3kHKHjcd0",
        "outputId": "8f4892df-a7c8-408b-9bb4-ad570ae3fe93"
      },
      "outputs": [
        {
          "data": {
            "application/vnd.google.colaboratory.intrinsic+json": {
              "type": "string"
            },
            "text/plain": [
              "'hello'"
            ]
          },
          "execution_count": 5,
          "metadata": {},
          "output_type": "execute_result"
        }
      ],
      "source": [
        "d['k1'][3]['tricky'][3]['target'][3]"
      ]
    },
    {
      "cell_type": "markdown",
      "metadata": {
        "id": "sStz1HI9jfYc"
      },
      "source": [
        "**Numpy**"
      ]
    },
    {
      "cell_type": "code",
      "execution_count": 6,
      "metadata": {
        "id": "U7H_UeExjias"
      },
      "outputs": [],
      "source": [
        "import numpy as np"
      ]
    },
    {
      "cell_type": "markdown",
      "metadata": {
        "id": "nxUJw_uUjlMM"
      },
      "source": [
        "**4.1 Create an array of 10 zeros**"
      ]
    },
    {
      "cell_type": "code",
      "execution_count": 16,
      "metadata": {
        "colab": {
          "base_uri": "https://localhost:8080/"
        },
        "id": "cm_FYiJmjoNz",
        "outputId": "eb726424-02e2-442d-8d76-e490a88fa27d"
      },
      "outputs": [
        {
          "name": "stdout",
          "output_type": "stream",
          "text": [
            "[0. 0. 0. 0. 0. 0. 0. 0. 0. 0.]\n"
          ]
        }
      ],
      "source": [
        "array=np.zeros(10)\n",
        "print(array)"
      ]
    },
    {
      "cell_type": "markdown",
      "metadata": {
        "id": "S7PjXIfNoEZP"
      },
      "source": []
    },
    {
      "cell_type": "markdown",
      "metadata": {
        "id": "BQ3RDP9xjvx7"
      },
      "source": [
        "**4.2 Create an array of 10 fives?**"
      ]
    },
    {
      "cell_type": "code",
      "execution_count": 8,
      "metadata": {
        "colab": {
          "base_uri": "https://localhost:8080/"
        },
        "id": "se1xO-qEjzXr",
        "outputId": "f81797ce-c39d-4988-c381-82fc9b047ea4"
      },
      "outputs": [
        {
          "name": "stdout",
          "output_type": "stream",
          "text": [
            "An array of 10 fives:\n",
            "[5. 5. 5. 5. 5. 5. 5. 5. 5. 5.]\n"
          ]
        }
      ],
      "source": [
        "array=np.ones(10)*5\n",
        "print(\"An array of 10 fives:\")\n",
        "print(array)"
      ]
    },
    {
      "cell_type": "markdown",
      "metadata": {
        "id": "LB8grn1ckXfV"
      },
      "source": [
        "**5. Create an array of all the even integers from 20 to 35**"
      ]
    },
    {
      "cell_type": "code",
      "execution_count": 9,
      "metadata": {
        "colab": {
          "base_uri": "https://localhost:8080/"
        },
        "id": "b2yP4snnkg58",
        "outputId": "779f02e6-f595-4124-ba3e-d5cc0abc9db9"
      },
      "outputs": [
        {
          "name": "stdout",
          "output_type": "stream",
          "text": [
            "[20 22 24 26 28 30 32 34]\n"
          ]
        }
      ],
      "source": [
        "array=np.arange(20,35,2)\n",
        "print(array)"
      ]
    },
    {
      "cell_type": "markdown",
      "metadata": {
        "id": "Ga1tAsg0kkLs"
      },
      "source": [
        "**6. Create a 3x3 matrix with values ranging from 0 to 8**"
      ]
    },
    {
      "cell_type": "code",
      "execution_count": 10,
      "metadata": {
        "colab": {
          "base_uri": "https://localhost:8080/"
        },
        "id": "ba-hWtGKknwc",
        "outputId": "60c6a32d-f80a-4770-c2e0-08316bd2506e"
      },
      "outputs": [
        {
          "data": {
            "text/plain": [
              "array([[0, 1, 2],\n",
              "       [3, 4, 5],\n",
              "       [6, 7, 8]])"
            ]
          },
          "execution_count": 10,
          "metadata": {},
          "output_type": "execute_result"
        }
      ],
      "source": [
        "np.arange(9).reshape(3,3)"
      ]
    },
    {
      "cell_type": "markdown",
      "metadata": {
        "id": "oJeW9FDskxgc"
      },
      "source": [
        "**7. Concatenate a and b**"
      ]
    },
    {
      "cell_type": "markdown",
      "metadata": {
        "id": "PBxDDEchk0qU"
      },
      "source": [
        "**a = np.array([1, 2, 3]), b = np.array([4, 5, 6])**"
      ]
    },
    {
      "cell_type": "code",
      "execution_count": 11,
      "metadata": {
        "colab": {
          "base_uri": "https://localhost:8080/"
        },
        "id": "q9U9N0WJk6RM",
        "outputId": "c3313a4b-56fd-4d6a-d572-09023aa5f35f"
      },
      "outputs": [
        {
          "data": {
            "text/plain": [
              "array([1, 2, 3, 4, 5, 6])"
            ]
          },
          "execution_count": 11,
          "metadata": {},
          "output_type": "execute_result"
        }
      ],
      "source": [
        "a=np.array([1,2,3])\n",
        "b=np.array([4,5,6])\n",
        "np.concatenate((a,b),axis=None)"
      ]
    },
    {
      "cell_type": "markdown",
      "metadata": {
        "id": "oYnpYeoOlBd0"
      },
      "source": [
        "**Pandas**"
      ]
    },
    {
      "cell_type": "markdown",
      "metadata": {
        "id": "T9X-K1_-lD29"
      },
      "source": [
        "**8. Create a dataframe with 3 rows and 2 columns**"
      ]
    },
    {
      "cell_type": "code",
      "execution_count": 12,
      "metadata": {
        "id": "Lz247jbrlHJs"
      },
      "outputs": [],
      "source": [
        "import pandas as pd"
      ]
    },
    {
      "cell_type": "code",
      "execution_count": 13,
      "metadata": {
        "colab": {
          "base_uri": "https://localhost:8080/"
        },
        "id": "F84cBqt6lJUs",
        "outputId": "f87fe185-1703-4cf0-88ed-c94364295f64"
      },
      "outputs": [
        {
          "name": "stdout",
          "output_type": "stream",
          "text": [
            "         x   z     y\n",
            "first    2   3   NaN\n",
            "second  10  30  20.0\n"
          ]
        }
      ],
      "source": [
        "import pandas as pd  \n",
        "data = [{'x': 2, 'z':3}, {'x': 10, 'y': 20, 'z': 30}] \n",
        "dframe = pd.DataFrame(data, index =['first', 'second'])  \n",
        "print(dframe) "
      ]
    },
    {
      "cell_type": "markdown",
      "metadata": {
        "id": "DAMj5kW1lXEf"
      },
      "source": [
        "**9. Generate the series of dates from 1st Jan, 2023 to 10th Feb, 2023**"
      ]
    },
    {
      "cell_type": "code",
      "execution_count": 14,
      "metadata": {
        "colab": {
          "base_uri": "https://localhost:8080/"
        },
        "id": "HfOBUCBwlY9c",
        "outputId": "18eb2bfb-df58-403d-c83c-1bf53d820b4d"
      },
      "outputs": [
        {
          "data": {
            "text/plain": [
              "DatetimeIndex(['2023-01-01', '2023-01-02', '2023-01-03', '2023-01-04',\n",
              "               '2023-01-05', '2023-01-06', '2023-01-07', '2023-01-08',\n",
              "               '2023-01-09', '2023-01-10',\n",
              "               ...\n",
              "               '2023-09-23', '2023-09-24', '2023-09-25', '2023-09-26',\n",
              "               '2023-09-27', '2023-09-28', '2023-09-29', '2023-09-30',\n",
              "               '2023-10-01', '2023-10-02'],\n",
              "              dtype='datetime64[ns]', length=275, freq='D')"
            ]
          },
          "execution_count": 14,
          "metadata": {},
          "output_type": "execute_result"
        }
      ],
      "source": [
        "pd.date_range(start='1/1/2023', end='10/02/2023')"
      ]
    },
    {
      "cell_type": "markdown",
      "metadata": {
        "id": "cMEkDK1ildts"
      },
      "source": [
        "**10. Create 2D list to DataFrame**"
      ]
    },
    {
      "cell_type": "code",
      "execution_count": 15,
      "metadata": {
        "colab": {
          "base_uri": "https://localhost:8080/"
        },
        "id": "PN5aPtw2lg99",
        "outputId": "5ed0aaa5-ca56-4295-c02a-8f521baa5979"
      },
      "outputs": [
        {
          "name": "stdout",
          "output_type": "stream",
          "text": [
            "   0    1   2\n",
            "0  1  aaa  22\n",
            "1  2  bbb  25\n",
            "2  3  ccc  24\n"
          ]
        }
      ],
      "source": [
        "lists = [[1, 'aaa', 22], [2, 'bbb', 25], [3, 'ccc', 24]]\n",
        "df=pd.DataFrame(lists)\n",
        "print(df)"
      ]
    }
  ],
  "metadata": {
    "colab": {
      "provenance": []
    },
    "kernelspec": {
      "display_name": "Python 3",
      "name": "python3"
    },
    "language_info": {
      "name": "python"
    }
  },
  "nbformat": 4,
  "nbformat_minor": 0
}
