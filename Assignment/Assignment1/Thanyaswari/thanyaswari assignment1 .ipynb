{
  "nbformat": 4,
  "nbformat_minor": 0,
  "metadata": {
    "colab": {
      "provenance": [],
      "collapsed_sections": []
    },
    "kernelspec": {
      "name": "python3",
      "display_name": "Python 3"
    },
    "language_info": {
      "name": "python"
    }
  },
  "cells": [
    {
      "cell_type": "code",
      "execution_count": null,
      "metadata": {
        "colab": {
          "base_uri": "https://localhost:8080/"
        },
        "id": "lDyinmtEGgpM",
        "outputId": "be517d03-9d7a-4554-fd18-44c50d696894"
      },
      "outputs": [
        {
          "output_type": "stream",
          "name": "stdout",
          "text": [
            "['Hi', 'there', 'sami']\n"
          ]
        }
      ],
      "source": [
        "\n",
        "txt= \"Hi there sami\"\n",
        "s= txt.split()\n",
        "print(s)"
      ]
    },
    {
      "cell_type": "code",
      "source": [
        "planet=\"earth\"\n",
        "diameter=12742\n",
        "print('The diameter of {} is {} kilometers,'.format(planet,diameter));"
      ],
      "metadata": {
        "colab": {
          "base_uri": "https://localhost:8080/"
        },
        "id": "8DVX6eFQVpmD",
        "outputId": "e70957ec-1ae3-47e2-fbe6-b9669ad2a5bc"
      },
      "execution_count": null,
      "outputs": [
        {
          "output_type": "stream",
          "name": "stdout",
          "text": [
            "The diameter of earth is 12742 kilometers,\n"
          ]
        }
      ]
    },
    {
      "cell_type": "code",
      "source": [
        "Ist=[1,2,[3,4],[5,[100,200,['hello']],23,11],1,7]\n",
        "a=Ist[3][1][2];\n",
        "print(a)"
      ],
      "metadata": {
        "id": "W-aMivqwX0ID",
        "colab": {
          "base_uri": "https://localhost:8080/"
        },
        "outputId": "eb96ca2d-9f94-4918-855b-5a22099effa7"
      },
      "execution_count": 1,
      "outputs": [
        {
          "output_type": "stream",
          "name": "stdout",
          "text": [
            "['hello']\n"
          ]
        }
      ]
    },
    {
      "cell_type": "code",
      "source": [
        "import numpy as np\n",
        "array=np.zeros(10)\n",
        "print(\"an array of 10:\")\n",
        "print(array)\n",
        "array=np.ones(10)\n",
        "print(\"an array of 10 ones:\")\n",
        "print(array)\n",
        "array=np.ones(10)*5\n",
        "print(\"an array of 10 fives:\")\n",
        "print(array)"
      ],
      "metadata": {
        "colab": {
          "base_uri": "https://localhost:8080/"
        },
        "id": "JIiPk_D1mcrL",
        "outputId": "f8194b57-a137-4740-de65-a4f353eca841"
      },
      "execution_count": 3,
      "outputs": [
        {
          "output_type": "stream",
          "name": "stdout",
          "text": [
            "an array of 10:\n",
            "[0. 0. 0. 0. 0. 0. 0. 0. 0. 0.]\n",
            "an array of 10 ones:\n",
            "[1. 1. 1. 1. 1. 1. 1. 1. 1. 1.]\n",
            "an array of 10 fives:\n",
            "[5. 5. 5. 5. 5. 5. 5. 5. 5. 5.]\n"
          ]
        }
      ]
    },
    {
      "cell_type": "code",
      "source": [
        "import numpy as np\n",
        "array=np.arange(20,34,2)\n",
        "print(\"array of all the evan integer form 20 to 35 \")\n",
        "print(array)"
      ],
      "metadata": {
        "colab": {
          "base_uri": "https://localhost:8080/"
        },
        "id": "Jjn3Gl-Tmvwe",
        "outputId": "3191ce66-ac13-4bf7-c5e9-f2f5ecd5f8d5"
      },
      "execution_count": 4,
      "outputs": [
        {
          "output_type": "stream",
          "name": "stdout",
          "text": [
            "array of all the evan integer form 20 to 35 \n",
            "[20 22 24 26 28 30 32]\n"
          ]
        }
      ]
    },
    {
      "cell_type": "code",
      "source": [
        "import numpy as np\n",
        "x=np.arange(0,9).reshape(3,3)\n",
        "print(x)"
      ],
      "metadata": {
        "colab": {
          "base_uri": "https://localhost:8080/"
        },
        "id": "Qwz8JeX_m18e",
        "outputId": "fd382867-ea01-4c5c-938b-80c0d65ff5f8"
      },
      "execution_count": 6,
      "outputs": [
        {
          "output_type": "stream",
          "name": "stdout",
          "text": [
            "[[0 1 2]\n",
            " [3 4 5]\n",
            " [6 7 8]]\n"
          ]
        }
      ]
    }
  ]
}