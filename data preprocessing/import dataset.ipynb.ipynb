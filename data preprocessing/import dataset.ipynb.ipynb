{
  "nbformat": 4,
  "nbformat_minor": 0,
  "metadata": {
    "colab": {
      "provenance": []
    },
    "kernelspec": {
      "name": "python3",
      "display_name": "Python 3"
    },
    "language_info": {
      "name": "python"
    }
  },
  "cells": [
    {
      "cell_type": "code",
      "execution_count": 2,
      "metadata": {
        "colab": {
          "base_uri": "https://localhost:8080/"
        },
        "id": "9uAFm_gQmKCG",
        "outputId": "0ae482b9-53dd-4671-c9d6-d06ec26b1aa3"
      },
      "outputs": [
        {
          "output_type": "execute_result",
          "data": {
            "text/plain": [
              "{'nbformat': 4,\n",
              " 'nbformat_minor': 0,\n",
              " 'metadata': {'colab': {'provenance': []},\n",
              "  'kernelspec': {'name': 'python3', 'display_name': 'Python 3'},\n",
              "  'language_info': {'name': 'python'}},\n",
              " 'cells': [{'cell_type': 'code',\n",
              "   'source': ['import pandas as pd\\n',\n",
              "    'import numpy as np\\n',\n",
              "    'import matplotlib.pyplot as plt'],\n",
              "   'metadata': {'id': 'GiRQ27X4JRcH'},\n",
              "   'execution_count': 1,\n",
              "   'outputs': []},\n",
              "  {'cell_type': 'code',\n",
              "   'source': ['data=pd.read_excel(\"/content/Crude Oil Prices Daily.xlsx\")'],\n",
              "   'metadata': {'id': 'dbaHUfMiJW8I'},\n",
              "   'execution_count': 2,\n",
              "   'outputs': []}]}"
            ]
          },
          "metadata": {},
          "execution_count": 2
        }
      ],
      "source": [
        "{\n",
        "  \"nbformat\": 4,\n",
        "  \"nbformat_minor\": 0,\n",
        "  \"metadata\": {\n",
        "    \"colab\": {\n",
        "      \"provenance\": []\n",
        "    },\n",
        "    \"kernelspec\": {\n",
        "      \"name\": \"python3\",\n",
        "      \"display_name\": \"Python 3\"\n",
        "    },\n",
        "    \"language_info\": {\n",
        "      \"name\": \"python\"\n",
        "    }\n",
        "  },\n",
        "  \"cells\": [\n",
        "    {\n",
        "      \"cell_type\": \"code\",\n",
        "      \"source\": [\n",
        "        \"import pandas as pd\\n\",\n",
        "        \"import numpy as np\\n\",\n",
        "        \"import matplotlib.pyplot as plt\"\n",
        "      ],\n",
        "      \"metadata\": {\n",
        "        \"id\": \"GiRQ27X4JRcH\"\n",
        "      },\n",
        "      \"execution_count\": 1,\n",
        "      \"outputs\": []\n",
        "    },\n",
        "    {\n",
        "      \"cell_type\": \"code\",\n",
        "      \"source\": [\n",
        "        \"data=pd.read_excel(\\\"/content/Crude Oil Prices Daily.xlsx\\\")\"\n",
        "      ],\n",
        "      \"metadata\": {\n",
        "        \"id\": \"dbaHUfMiJW8I\"\n",
        "      },\n",
        "      \"execution_count\": 2,\n",
        "      \"outputs\": []\n",
        "    }\n",
        "  ]\n",
        "}"
      ]
    }
  ]
}